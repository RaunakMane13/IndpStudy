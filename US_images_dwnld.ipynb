{
 "cells": [
  {
   "cell_type": "code",
   "execution_count": 1,
   "id": "436f1655-f6ab-47f9-974f-eeae8bc30576",
   "metadata": {},
   "outputs": [
    {
     "name": "stdout",
     "output_type": "stream",
     "text": [
      "Total downloaded: 242418\n",
      "Total failed: 6411\n"
     ]
    }
   ],
   "source": [
    "import pandas as pd\n",
    "import requests\n",
    "import os\n",
    "from datetime import datetime\n",
    "from concurrent.futures import ThreadPoolExecutor, as_completed\n",
    "\n",
    "csv_file_path = '/home/student/Downloads/yt_trending_data_cleaned.csv'  \n",
    "images_directory = '/home/student/Downloads/mongoimages/US_img'  # Directory where images will be saved\n",
    "url_column_name = 'thumbnail_link'  # The name of the column containing the image URLs\n",
    "region_column_name = 'region'  # The name of the column containing the region information\n",
    "\n",
    "os.makedirs(images_directory, exist_ok=True)\n",
    "df = pd.read_csv(csv_file_path)\n",
    "\n",
    "# Filter the DataFrame for rows where the region is \"US\"\n",
    "df = df[df[region_column_name] == 'US']\n",
    "\n",
    "# Initializing counters\n",
    "downloaded_count = 0\n",
    "failed_count = 0\n",
    "\n",
    "# Function to download an image\n",
    "def download_image(url, directory, index):\n",
    "    try:\n",
    "        response = requests.get(url, timeout=10)\n",
    "        if response.status_code == 200:\n",
    "            file_path = os.path.join(directory, f\"image_{index}.jpg\")\n",
    "            with open(file_path, 'wb') as f:\n",
    "                f.write(response.content)\n",
    "            return True, url\n",
    "        else:\n",
    "            return False, url\n",
    "    except requests.RequestException:\n",
    "        return False, url\n",
    "\n",
    "# Function to handle the results of the downloads\n",
    "def handle_result(future):\n",
    "    global downloaded_count, failed_count\n",
    "    success, url = future.result()\n",
    "    if success:\n",
    "        downloaded_count += 1\n",
    "        #print(f\"Downloaded: {url}\")\n",
    "    else:\n",
    "        failed_count += 1\n",
    "        #print(f\"Failed to download: {url}\")\n",
    "\n",
    "# Use ThreadPoolExecutor to download images concurrently\n",
    "with ThreadPoolExecutor(max_workers=10) as executor:  \n",
    "    futures = [executor.submit(download_image, row[url_column_name], images_directory, index) for index, row in df.iterrows()]\n",
    "    for future in as_completed(futures):\n",
    "        handle_result(future)\n",
    "\n",
    "# Print summary\n",
    "print(f\"Total downloaded: {downloaded_count}\")\n",
    "print(f\"Total failed: {failed_count}\")\n"
   ]
  },
  {
   "cell_type": "code",
   "execution_count": null,
   "id": "4fa09e34-d820-4645-bac5-00a0f67bf4ab",
   "metadata": {},
   "outputs": [],
   "source": []
  }
 ],
 "metadata": {
  "kernelspec": {
   "display_name": "Python 3 (ipykernel)",
   "language": "python",
   "name": "python3"
  },
  "language_info": {
   "codemirror_mode": {
    "name": "ipython",
    "version": 3
   },
   "file_extension": ".py",
   "mimetype": "text/x-python",
   "name": "python",
   "nbconvert_exporter": "python",
   "pygments_lexer": "ipython3",
   "version": "3.10.12"
  }
 },
 "nbformat": 4,
 "nbformat_minor": 5
}
